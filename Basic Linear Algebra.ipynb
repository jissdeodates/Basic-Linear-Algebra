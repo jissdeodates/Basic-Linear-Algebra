{
 "cells": [
  {
   "cell_type": "code",
   "execution_count": 1,
   "metadata": {},
   "outputs": [],
   "source": [
    "import  numpy as np\n",
    "import scipy.linalg as la\n",
    "\n",
    "from sympy import * \n",
    "init_printing(use_unicode=True)\n",
    "\n",
    "from numpy.linalg import matrix_power as mpow\n",
    "\n",
    "import matplotlib.pyplot as plt\n",
    "\n",
    "%matplotlib notebook\n",
    "\n",
    "from mpl_toolkits.mplot3d import axes3d\n",
    "\n",
    "#add %matplotlib inline if using a Jupyter notebook, remove if using a .py script\n",
    "%matplotlib inline\n",
    "\n"
   ]
  },
  {
   "cell_type": "markdown",
   "metadata": {},
   "source": [
    "### Input your Matrix here:"
   ]
  },
  {
   "cell_type": "code",
   "execution_count": 2,
   "metadata": {},
   "outputs": [],
   "source": [
    "# A = [[1,2],\n",
    "#      [3,4]]\n",
    "\n",
    "A = [[5,9],\n",
    "     [1,7],\n",
    "     [-3,-5],\n",
    "     [1,5]]\n"
   ]
  },
  {
   "cell_type": "markdown",
   "metadata": {},
   "source": [
    "### Original Matrix A"
   ]
  },
  {
   "cell_type": "code",
   "execution_count": 35,
   "metadata": {},
   "outputs": [
    {
     "name": "stdout",
     "output_type": "stream",
     "text": [
      "Original Matrix A:\n"
     ]
    },
    {
     "data": {
      "text/latex": [
       "$\\displaystyle \\left[\\begin{matrix}5 & 9\\\\1 & 7\\\\-3 & -5\\\\1 & 5\\end{matrix}\\right]$"
      ],
      "text/plain": [
       "⎡5   9 ⎤\n",
       "⎢      ⎥\n",
       "⎢1   7 ⎥\n",
       "⎢      ⎥\n",
       "⎢-3  -5⎥\n",
       "⎢      ⎥\n",
       "⎣1   5 ⎦"
      ]
     },
     "execution_count": 35,
     "metadata": {},
     "output_type": "execute_result"
    }
   ],
   "source": [
    "M = np.array(A)\n",
    "\n",
    "r, c = M.shape\n",
    "\n",
    "M1 = Matrix(A) \n",
    "\n",
    "print(\"Original Matrix A:\") \n",
    "M1"
   ]
  },
  {
   "cell_type": "markdown",
   "metadata": {},
   "source": [
    "### Shape of Matrix A "
   ]
  },
  {
   "cell_type": "code",
   "execution_count": 4,
   "metadata": {},
   "outputs": [
    {
     "name": "stdout",
     "output_type": "stream",
     "text": [
      "Matrix A with 4 rows and 2 columns.\n"
     ]
    }
   ],
   "source": [
    "print(\"Matrix A with\",r,\"rows and\",c,\"columns.\")"
   ]
  },
  {
   "cell_type": "markdown",
   "metadata": {},
   "source": [
    "### Transpose of Matrix A "
   ]
  },
  {
   "cell_type": "code",
   "execution_count": 39,
   "metadata": {},
   "outputs": [
    {
     "name": "stdout",
     "output_type": "stream",
     "text": [
      "[[ 5  1 -3  1]\n",
      " [ 9  7 -5  5]]\n"
     ]
    }
   ],
   "source": [
    "print(\"Transpose of A:\\n\",(M.T))"
   ]
  },
  {
   "cell_type": "markdown",
   "metadata": {},
   "source": [
    "### Trace of Matrix A "
   ]
  },
  {
   "cell_type": "code",
   "execution_count": 40,
   "metadata": {},
   "outputs": [
    {
     "name": "stdout",
     "output_type": "stream",
     "text": [
      "Trace of A:\n",
      " 12\n"
     ]
    }
   ],
   "source": [
    "print(\"Trace of A:\\n\",np.trace(M))"
   ]
  },
  {
   "cell_type": "markdown",
   "metadata": {},
   "source": [
    "### Determinant and Inverse of Matrix A "
   ]
  },
  {
   "cell_type": "code",
   "execution_count": 41,
   "metadata": {},
   "outputs": [],
   "source": [
    "#for square matrix only\n",
    "if (r==c):\n",
    "    print(\"\\n** Determinant of M  **\\n\",la.det(M))\n",
    "    print(\"\\n** Inverse of M **\\n\",la.inv(M))\n"
   ]
  },
  {
   "cell_type": "markdown",
   "metadata": {},
   "source": [
    "### Reduced Row Echelon Form (RREF)"
   ]
  },
  {
   "cell_type": "code",
   "execution_count": 8,
   "metadata": {},
   "outputs": [
    {
     "name": "stdout",
     "output_type": "stream",
     "text": [
      "The Row echelon form of matrix M:\n"
     ]
    },
    {
     "data": {
      "text/latex": [
       "$\\displaystyle \\left[\\begin{matrix}1 & 0\\\\0 & 1\\\\0 & 0\\\\0 & 0\\end{matrix}\\right]$"
      ],
      "text/plain": [
       "⎡1  0⎤\n",
       "⎢    ⎥\n",
       "⎢0  1⎥\n",
       "⎢    ⎥\n",
       "⎢0  0⎥\n",
       "⎢    ⎥\n",
       "⎣0  0⎦"
      ]
     },
     "execution_count": 8,
     "metadata": {},
     "output_type": "execute_result"
    }
   ],
   "source": [
    "# Use sympy.rref() method  \n",
    "rref, p_tuple = M1.rref()       \n",
    "print(\"The Row echelon form of matrix M:\")\n",
    "rref"
   ]
  },
  {
   "cell_type": "markdown",
   "metadata": {},
   "source": [
    "### Pivot Columns"
   ]
  },
  {
   "cell_type": "code",
   "execution_count": 9,
   "metadata": {},
   "outputs": [
    {
     "name": "stdout",
     "output_type": "stream",
     "text": [
      "Indices of the pivot columns:\n"
     ]
    },
    {
     "data": {
      "image/png": "[encoded data removed]",
      "text/latex": [
       "$\\displaystyle \\left( 0, \\  1\\right)$"
      ],
      "text/plain": [
       "(0, 1)"
      ]
     },
     "execution_count": 9,
     "metadata": {},
     "output_type": "execute_result"
    }
   ],
   "source": [
    "print(\"Indices of the pivot columns:\")\n",
    "p_tuple"
   ]
  },
  {
   "cell_type": "markdown",
   "metadata": {},
   "source": [
    "### Null space"
   ]
  },
  {
   "cell_type": "code",
   "execution_count": 10,
   "metadata": {},
   "outputs": [
    {
     "name": "stdout",
     "output_type": "stream",
     "text": [
      "Null Space of matrix:\n"
     ]
    },
    {
     "data": {
      "image/png": "[encoded data removed]",
      "text/latex": [
       "$\\displaystyle \\left[ \\right]$"
      ],
      "text/plain": [
       "[]"
      ]
     },
     "execution_count": 10,
     "metadata": {},
     "output_type": "execute_result"
    }
   ],
   "source": [
    "print(\"Null Space of matrix:\")\n",
    "M1.nullspace()"
   ]
  },
  {
   "cell_type": "markdown",
   "metadata": {},
   "source": [
    "### Column space"
   ]
  },
  {
   "cell_type": "code",
   "execution_count": 11,
   "metadata": {},
   "outputs": [
    {
     "name": "stdout",
     "output_type": "stream",
     "text": [
      "Column Space of matrix:\n"
     ]
    },
    {
     "data": {
      "text/latex": [
       "$\\displaystyle \\left[ \\left[\\begin{matrix}5\\\\1\\\\-3\\\\1\\end{matrix}\\right], \\  \\left[\\begin{matrix}9\\\\7\\\\-5\\\\5\\end{matrix}\\right]\\right]$"
      ],
      "text/plain": [
       "⎡⎡5 ⎤  ⎡9 ⎤⎤\n",
       "⎢⎢  ⎥  ⎢  ⎥⎥\n",
       "⎢⎢1 ⎥  ⎢7 ⎥⎥\n",
       "⎢⎢  ⎥, ⎢  ⎥⎥\n",
       "⎢⎢-3⎥  ⎢-5⎥⎥\n",
       "⎢⎢  ⎥  ⎢  ⎥⎥\n",
       "⎣⎣1 ⎦  ⎣5 ⎦⎦"
      ]
     },
     "execution_count": 11,
     "metadata": {},
     "output_type": "execute_result"
    }
   ],
   "source": [
    "print(\"Column Space of matrix:\")\n",
    "M1.columnspace()"
   ]
  },
  {
   "cell_type": "markdown",
   "metadata": {},
   "source": [
    "### Row space"
   ]
  },
  {
   "cell_type": "code",
   "execution_count": 12,
   "metadata": {},
   "outputs": [
    {
     "name": "stdout",
     "output_type": "stream",
     "text": [
      "Row Space of matrix:\n"
     ]
    },
    {
     "data": {
      "text/latex": [
       "$\\displaystyle \\left[ \\left[\\begin{matrix}5 & 9\\end{matrix}\\right], \\  \\left[\\begin{matrix}0 & 26\\end{matrix}\\right]\\right]$"
      ],
      "text/plain": [
       "[[5  9], [0  26]]"
      ]
     },
     "execution_count": 12,
     "metadata": {},
     "output_type": "execute_result"
    }
   ],
   "source": [
    "print(\"Row Space of matrix:\")\n",
    "M1.rowspace()"
   ]
  },
  {
   "cell_type": "markdown",
   "metadata": {},
   "source": [
    "### Eigen Values"
   ]
  },
  {
   "cell_type": "code",
   "execution_count": 13,
   "metadata": {},
   "outputs": [],
   "source": [
    "#for square matrix only\n",
    "if (r==c):\n",
    "    print(\"Eigen Values of matrix:\")\n",
    "    M1.eigenvals()"
   ]
  },
  {
   "cell_type": "markdown",
   "metadata": {},
   "source": [
    "### Eigen Vectors"
   ]
  },
  {
   "cell_type": "code",
   "execution_count": 14,
   "metadata": {},
   "outputs": [],
   "source": [
    "#for square matrix only\n",
    "if (r==c):\n",
    "    print(\"Eigen Vectors of matrix:\")\n",
    "    M1.eigenvects()"
   ]
  },
  {
   "cell_type": "markdown",
   "metadata": {},
   "source": [
    "### Diagonalization"
   ]
  },
  {
   "cell_type": "code",
   "execution_count": 19,
   "metadata": {},
   "outputs": [],
   "source": [
    "#for square matrix only\n",
    "if (r==c):\n",
    "    P, D = M1.diagonalize()\n"
   ]
  },
  {
   "cell_type": "code",
   "execution_count": 20,
   "metadata": {},
   "outputs": [],
   "source": [
    "#for square matrix only\n",
    "if (r==c):\n",
    "    P"
   ]
  },
  {
   "cell_type": "code",
   "execution_count": 21,
   "metadata": {},
   "outputs": [],
   "source": [
    "#for square matrix only\n",
    "if (r==c):\n",
    "    print(\"Diagonal D:\")\n",
    "    D"
   ]
  },
  {
   "cell_type": "code",
   "execution_count": 22,
   "metadata": {},
   "outputs": [],
   "source": [
    "#for square matrix only\n",
    "if (r==c):\n",
    "    print(\"PD(P inverse):\")\n",
    "    P*D*P**-1"
   ]
  },
  {
   "cell_type": "code",
   "execution_count": 23,
   "metadata": {},
   "outputs": [],
   "source": [
    "#for square matrix only\n",
    "if (r==c):\n",
    "    print(\"Check if M = PD(P-inverse):\")\n",
    "    P*D*P**-1 == M1"
   ]
  },
  {
   "cell_type": "markdown",
   "metadata": {},
   "source": [
    "### Singular Value Decomposition (SVD)"
   ]
  },
  {
   "cell_type": "code",
   "execution_count": 24,
   "metadata": {},
   "outputs": [
    {
     "name": "stdout",
     "output_type": "stream",
     "text": [
      "* Orthogonal Matrix of AA':\n",
      "\n",
      " [[-0.70611904  0.47288278  0.52185792 -0.07377049]\n",
      " [-0.47288278 -0.70611904 -0.07377049 -0.52185792]\n",
      " [ 0.39815919 -0.34532164  0.84972678 -0.0136612 ]\n",
      " [-0.34532164 -0.39815919  0.0136612   0.84972678]]\n",
      "\n",
      "\n",
      "* Diagonal Matrix:\n",
      "\n",
      " [14.48528137  2.48528137]\n",
      "\n",
      "\n",
      "* Orthogonal Matrix of A'A:\n",
      "\n",
      " [[-0.38268343 -0.92387953]\n",
      " [ 0.92387953 -0.38268343]]\n"
     ]
    }
   ],
   "source": [
    "#Singular Value Decomposition (SVD)\n",
    "U, S, Vh = la.svd(M)\n",
    "\n",
    "#(Unitary matrix (U) having left singular vectors as columns)\n",
    "print(\"* Orthogonal Matrix of AA':\\n\\n\",U)\n",
    "\n",
    "\n",
    "#Vectors (S) with the singular values, sorted in descending order\n",
    "print(\"\\n\\n* Diagonal Matrix:\\n\\n\",S)\n",
    "\n",
    "#Unitary matrix (Vh) having right singular vectors as rows\n",
    "print(\"\\n\\n* Orthogonal Matrix of A'A:\\n\\n\",Vh)"
   ]
  },
  {
   "cell_type": "code",
   "execution_count": 25,
   "metadata": {},
   "outputs": [],
   "source": [
    "# check if this svd is an exact decomposition\n",
    "# @ is used for matrix multiplication in Py3, use np.matmul with Py2\n",
    "#print(\"\\n\\nChecking if it is the exact decomposition:\\n\\n\",U @ np.diag(S) @ Vh)\n"
   ]
  },
  {
   "cell_type": "markdown",
   "metadata": {},
   "source": [
    "### QR Factorization / Decomposition"
   ]
  },
  {
   "cell_type": "code",
   "execution_count": 26,
   "metadata": {},
   "outputs": [],
   "source": [
    "def qr_factorization(A):\n",
    "    m, n = A.shape\n",
    "    Q = np.zeros((m, n))\n",
    "    R = np.zeros((n, n))\n",
    "\n",
    "    for j in range(n):\n",
    "        v = A[:, j]\n",
    "\n",
    "        for i in range(j - 1):\n",
    "            q = Q[:, i]\n",
    "            R[i, j] = q.dot(v)\n",
    "            v = v - R[i, j] * q\n",
    "\n",
    "        norm = np.linalg.norm(v)\n",
    "        Q[:, j] = v / norm\n",
    "        R[j, j] = norm\n",
    "    return Q, R"
   ]
  },
  {
   "cell_type": "code",
   "execution_count": 27,
   "metadata": {},
   "outputs": [
    {
     "name": "stdout",
     "output_type": "stream",
     "text": [
      "\n",
      "* Matrix  Q:\n",
      "\n",
      " [[ 0.83333333  0.67082039]\n",
      " [ 0.16666667  0.52174919]\n",
      " [-0.5        -0.372678  ]\n",
      " [ 0.16666667  0.372678  ]]\n",
      "\n",
      "\n",
      "* Upper Triangular (R):\n",
      "\n",
      " [[ 6.          0.        ]\n",
      " [ 0.         13.41640786]]\n",
      "\n",
      "\n",
      "* Shape of Q: (4, 2) \n",
      "\n",
      "* Shape of R: (2, 2)\n",
      "\n",
      "* A = QR\n",
      "\n",
      " [[ 5.  9.]\n",
      " [ 1.  7.]\n",
      " [-3. -5.]\n",
      " [ 1.  5.]]\n"
     ]
    }
   ],
   "source": [
    "#QR Decomposition\n",
    "\n",
    "# Q, R = la.qr(M, mode='economic')\n",
    "# print(\"** QR Decompisition **\\n\\n\"\n",
    "#       \"Matrix (Q) with orthonormal columns:\\n\\n\",Q)\n",
    "# print(\"\\n\\nUpper-triangular matrix (R):\\n\\n\",R)\n",
    "\n",
    "Q, R = qr_factorization(M)\n",
    "\n",
    "print(\"\\n* Matrix  Q:\\n\\n\",Q)\n",
    "print(\"\\n\\n* Upper Triangular (R):\\n\\n\",R)\n",
    "\n",
    "print(\"\\n\\n* Shape of Q:\",Q.shape, \"\\n\\n* Shape of R:\",R.shape)\n",
    "\n",
    "print(\"\\n* A = QR\\n\\n\",np.matmul(Q,R))"
   ]
  },
  {
   "cell_type": "markdown",
   "metadata": {},
   "source": [
    "### LU Decomposition"
   ]
  },
  {
   "cell_type": "code",
   "execution_count": 29,
   "metadata": {},
   "outputs": [
    {
     "name": "stdout",
     "output_type": "stream",
     "text": [
      "\n",
      " * Permutation matrix (P):\n",
      "\n",
      " [[1. 0. 0. 0.]\n",
      " [0. 1. 0. 0.]\n",
      " [0. 0. 1. 0.]\n",
      " [0. 0. 0. 1.]]\n",
      "\n",
      "\n",
      "* Lower triangular matrix (L):\n",
      "\n",
      " [[ 1.          0.        ]\n",
      " [ 0.2         1.        ]\n",
      " [-0.6         0.07692308]\n",
      " [ 0.2         0.61538462]]\n",
      "\n",
      "\n",
      "* Upper triangular matrix (U):\n",
      "\n",
      " [[5.  9. ]\n",
      " [0.  5.2]]\n"
     ]
    }
   ],
   "source": [
    "#LU Decomposition\n",
    "\n",
    "P, L, U = la.lu(M)\n",
    "print(\"\\n * Permutation matrix (P):\\n\\n\",P)\n",
    "print(\"\\n\\n* Lower triangular matrix (L):\\n\\n\",L)\n",
    "print(\"\\n\\n* Upper triangular matrix (U):\\n\\n\",U)"
   ]
  },
  {
   "cell_type": "markdown",
   "metadata": {},
   "source": [
    "### Gram-Schmidt Orthogonization using Numpy "
   ]
  },
  {
   "cell_type": "code",
   "execution_count": 34,
   "metadata": {},
   "outputs": [
    {
     "name": "stdout",
     "output_type": "stream",
     "text": [
      "[[ 0.6  0.8]\n",
      " [-0.8  0.6]]\n"
     ]
    }
   ],
   "source": [
    "def gs_cofficient(v1, v2):\n",
    "    return np.dot(v2, v1) / np.dot(v1, v1)\n",
    "\n",
    "def multiply(cofficient, v):\n",
    "    return map((lambda x : x * cofficient), v)\n",
    "\n",
    "def proj(v1, v2):\n",
    "    return multiply(gs_cofficient(v1, v2) , v1)\n",
    "\n",
    "def gs(X, row_vecs=True, norm = True):\n",
    "    if not row_vecs:\n",
    "        X = X.T\n",
    "    Y = X[0:1,:].copy()\n",
    "    for i in range(1, X.shape[0]):\n",
    "        proj = np.diag((X[i,:].dot(Y.T)/np.linalg.norm(Y,axis=1)**2).flat).dot(Y)\n",
    "        Y = np.vstack((Y, X[i,:] - proj.sum(0)))\n",
    "    if norm:\n",
    "        Y = np.diag(1/np.linalg.norm(Y,axis=1)).dot(Y)\n",
    "    if row_vecs:\n",
    "        return Y\n",
    "    else:\n",
    "        return Y.T\n",
    "\n",
    "# def gs(vectors):\n",
    "#     basis = []\n",
    "#     for v in vectors:\n",
    "#         w = v - np.sum( np.dot(v,b)*b  for b in basis )\n",
    "#         if (w > 1e-10).any():  \n",
    "#             basis.append(w/np.linalg.norm(w))\n",
    "#     return np.array(basis)\n",
    "\n",
    "# test = np.array([[1,3,5],\n",
    "#                  [-1,3,1],\n",
    "#                  [0,2,3],\n",
    "#                  [1,-5,2],\n",
    "#                  [1,5,8]])\n",
    "\n",
    "# test2 = np.array([[1.0, 1.0, 0.0],\n",
    "#                   [1.0, 3.0, 1.0],\n",
    "#                   [2.0, -1.0, 1.0]])\n",
    "\n",
    "print(np.array(gs(M)))\n",
    "# print(np.array(gs(test2)))"
   ]
  },
  {
   "cell_type": "markdown",
   "metadata": {},
   "source": [
    "### Check if two vectors are Orthogonal or not"
   ]
  },
  {
   "cell_type": "code",
   "execution_count": 30,
   "metadata": {},
   "outputs": [
    {
     "name": "stdout",
     "output_type": "stream",
     "text": [
      "Not Orthogonal\n"
     ]
    }
   ],
   "source": [
    "u=[8,-5]\n",
    "v=[-2,-3]\n",
    "\n",
    "if np.dot(u,v)==0:\n",
    "    print(\"Orthogonal\")\n",
    "else:\n",
    "    print(\"Not Orthogonal\")\n"
   ]
  },
  {
   "cell_type": "markdown",
   "metadata": {},
   "source": [
    "### Matrix Multiplication"
   ]
  },
  {
   "cell_type": "code",
   "execution_count": 31,
   "metadata": {},
   "outputs": [
    {
     "name": "stdout",
     "output_type": "stream",
     "text": [
      "Shape of M is (2, 3)\n",
      "\n",
      "Shape of N is (3, 2)\n",
      "\n",
      "\n",
      "M * N:\n",
      " [[84 80]\n",
      " [75 64]]\n"
     ]
    }
   ],
   "source": [
    "M = np.array([[3,4, 5],[-1,5,5]])\n",
    "print(\"Shape of M is\", M.shape)\n",
    "\n",
    "N = np.array([[5,6],[11,8], [5, 6]])\n",
    "print(\"\\nShape of N is\", N.shape)\n",
    "\n",
    "print(\"\\n\\nM * N:\\n\",M @ N)"
   ]
  },
  {
   "cell_type": "markdown",
   "metadata": {},
   "source": [
    "### Matrix Power"
   ]
  },
  {
   "cell_type": "code",
   "execution_count": 32,
   "metadata": {},
   "outputs": [
    {
     "name": "stdout",
     "output_type": "stream",
     "text": [
      "Original matrix:\n",
      " [[ 3  4]\n",
      " [-1  5]]\n",
      "\n",
      "\n",
      "M ^ 2 :\n"
     ]
    },
    {
     "data": {
      "text/plain": [
       "array([[ 5, 32],\n",
       "       [-8, 21]])"
      ]
     },
     "execution_count": 32,
     "metadata": {},
     "output_type": "execute_result"
    }
   ],
   "source": [
    "M = np.array([[3,4],[-1,5]])\n",
    "print(\"Original matrix:\\n\",M)\n",
    "\n",
    "pow = 2\n",
    "print(\"\\n\\nM ^\",pow,\":\")\n",
    "mpow(M, pow)"
   ]
  },
  {
   "cell_type": "markdown",
   "metadata": {},
   "source": [
    "### Gaussian Elimination for solving linear equations"
   ]
  },
  {
   "cell_type": "code",
   "execution_count": 33,
   "metadata": {},
   "outputs": [
    {
     "data": {
      "text/plain": [
       "array([  4.75,  36.  , -13.75])"
      ]
     },
     "execution_count": 33,
     "metadata": {},
     "output_type": "execute_result"
    }
   ],
   "source": [
    "# Solve the system of equations \n",
    "# 3 * x0 + 1 * x1 + 3 * x2 = 9 and \n",
    "# 1 * x0 + 2 * x1 + 5 * x2 = 8 and \n",
    "# 2 * x0 + 1 * x1 + 2 * x2 = 18:\n",
    "    \n",
    "a = np.array([[3,1,3], [1,2,5],[2,1,2]])\n",
    "b = np.array([9,8,18])\n",
    "\n",
    "x = np.linalg.solve(a, b)\n",
    "x"
   ]
  },
  {
   "cell_type": "markdown",
   "metadata": {},
   "source": [
    "### Row Echelon form"
   ]
  },
  {
   "cell_type": "markdown",
   "metadata": {},
   "source": [
    "Add Matrix in Augmented form, ie [A | b]\n",
    "\n",
    "http://www.math.odu.edu/~bogacki/cgi-bin/lat.cgi\n",
    "\n",
    "https://atozmath.com/\n",
    "\n",
    "http://www.dotnumerics.com/MatrixCalculator/Default.aspx"
   ]
  },
  {
   "cell_type": "markdown",
   "metadata": {},
   "source": []
  },
  {
   "cell_type": "markdown",
   "metadata": {},
   "source": [
    "### Expressing as linear combination (Orthogonal Projection)"
   ]
  },
  {
   "cell_type": "code",
   "execution_count": null,
   "metadata": {},
   "outputs": [],
   "source": [
    "u1=[1,0,1]\n",
    "u2=[-1,4,1]\n",
    "u3=[2,1,-2]\n",
    "x=[8,-4,-3]"
   ]
  },
  {
   "cell_type": "code",
   "execution_count": null,
   "metadata": {},
   "outputs": [],
   "source": [
    "origin = [0,0,0]\n",
    "\n",
    "\n",
    "if (np.dot(u1,u2)==0) & (np.dot(u1,u3)==0) & (np.dot(u2,u3)==0):\n",
    "    c1 = (np.dot(x,u1)/np.dot(u1,u1))\n",
    "    c2 = (np.dot(x,u2)/np.dot(u2,u2))\n",
    "    c3 = (np.dot(x,u3)/np.dot(u3,u3))\n",
    "    p=np.array(u1)*c1+np.array(u2)*c2+np.array(u3)*c3\n",
    "    print(\"x=\",p)\n",
    "\n",
    "    print('Projection of x onto u: ',p)\n",
    "    print('Orthogonal Complement of p: ',x-p)\n",
    "\n",
    "    fig=plt.figure()\n",
    "\n",
    "    ax=fig.gca(projection='3d')\n",
    "\n",
    "    ax.quiver(*origin, *u1, length=0.1,color=[\"red\"], normalize=True)\n",
    "    ax.quiver(*origin, *u2, length=0.1,color=[\"red\"], normalize=True)\n",
    "    ax.quiver(*origin, *u3, length=0.1,color=[\"red\"], normalize=True)\n",
    "    ax.quiver(*origin, *x, length=0.1,color=[\"blue\"], normalize=True)\n",
    "\n",
    "    ax.quiver(*origin, *p, length=0.1,color=[\"green\"], normalize=True)\n",
    "\n",
    "    ax.quiver(*origin, *(x-p), length=0.1,color=[\"green\"], normalize=True)\n",
    "\n",
    "    plt.show()\n",
    "\n",
    "else:\n",
    "    print(\"Not Orthogonal\")"
   ]
  },
  {
   "cell_type": "markdown",
   "metadata": {},
   "source": [
    "### Orthonormal Vectors (Basis)"
   ]
  },
  {
   "cell_type": "code",
   "execution_count": null,
   "metadata": {},
   "outputs": [],
   "source": [
    "import numpy as np\n",
    "import sympy as sym\n",
    "\n",
    "v1=[3,0,-1]\n",
    "v2=[8,5,-6]\n",
    "\n",
    "u1=v1\n",
    "\n",
    "e1=u1/np.sqrt(np.dot(u1,u1))\n",
    "\n",
    "pv2=(np.dot(u1,v2)/np.dot(u1,u1))\n",
    "\n",
    "u2=v2-np.dot(pv2,u1)\n",
    "\n",
    "e2=u2/np.sqrt(np.dot(u2,u2))\n",
    "\n",
    "print(\"Orthonormal basis:\\n\\n\",e1,\"\\n\\n\",e2)"
   ]
  },
  {
   "cell_type": "markdown",
   "metadata": {},
   "source": [
    "### Distance between 2 vectors"
   ]
  },
  {
   "cell_type": "code",
   "execution_count": null,
   "metadata": {},
   "outputs": [],
   "source": [
    "u=[0,-5,2]\n",
    "z=[-4,-1,8]\n",
    "\n",
    "d=np.sqrt(((u[0]-z[0])**2)+((u[1]-z[1])**2)+((u[2]-z[2])**2))\n",
    "\n",
    "print(\"Distance between 2 vectors: \",d)"
   ]
  },
  {
   "cell_type": "markdown",
   "metadata": {},
   "source": [
    "### Projection "
   ]
  },
  {
   "cell_type": "code",
   "execution_count": null,
   "metadata": {},
   "outputs": [],
   "source": [
    "def proj(v,w):\n",
    "    '''Project vector v onto w.'''\n",
    "    v = np.array(v)\n",
    "    w = np.array(w)\n",
    "    return np.sum(v * w)/np.sum(w * w) * w"
   ]
  },
  {
   "cell_type": "code",
   "execution_count": null,
   "metadata": {},
   "outputs": [],
   "source": [
    "proj([1,2,3],[1,1,1])"
   ]
  },
  {
   "cell_type": "code",
   "execution_count": null,
   "metadata": {},
   "outputs": [],
   "source": []
  }
 ],
 "metadata": {
  "kernelspec": {
   "display_name": "Python 3",
   "language": "python",
   "name": "python3"
  },
  "language_info": {
   "codemirror_mode": {
    "name": "ipython",
    "version": 3
   },
   "file_extension": ".py",
   "mimetype": "text/x-python",
   "name": "python",
   "nbconvert_exporter": "python",
   "pygments_lexer": "ipython3",
   "version": "3.8.3"
  }
 },
 "nbformat": 4,
 "nbformat_minor": 4
}
